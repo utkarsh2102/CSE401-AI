{
 "cells": [
  {
   "cell_type": "markdown",
   "metadata": {},
   "source": [
    "### Overview of Python\n",
    "\n",
    "This contains the solution of `List` and `Tuple` questions as the lab assignment."
   ]
  },
  {
   "cell_type": "markdown",
   "metadata": {},
   "source": [
    "#### List Questions:"
   ]
  },
  {
   "cell_type": "markdown",
   "metadata": {},
   "source": [
    "###### Q1. Write a Python program to sum all the items in a list."
   ]
  },
  {
   "cell_type": "code",
   "execution_count": 1,
   "metadata": {},
   "outputs": [
    {
     "name": "stdout",
     "output_type": "stream",
     "text": [
      "Input the numbers: 6 8 2 10 4\n",
      "Total sum is: 30\n",
      "\n",
      "Alternatively, we use the 'sum' function in Python:\n",
      "sum(numbers): 30\n"
     ]
    }
   ],
   "source": [
    "numbers = list(map(int, input(\"Input the numbers: \").split()))\n",
    "\n",
    "# way 1:\n",
    "totalSum = 0\n",
    "for i in numbers:\n",
    "    totalSum += i\n",
    "\n",
    "print(f\"Total sum is: {totalSum}\")\n",
    "\n",
    "# way 2:\n",
    "print()\n",
    "print(\"Alternatively, we use the 'sum' function in Python:\")\n",
    "print(f\"sum(numbers): {sum(numbers)}\")"
   ]
  },
  {
   "cell_type": "markdown",
   "metadata": {},
   "source": [
    "###### Q2. Write a Python program to get the largest number from a list."
   ]
  },
  {
   "cell_type": "code",
   "execution_count": 2,
   "metadata": {},
   "outputs": [
    {
     "name": "stdout",
     "output_type": "stream",
     "text": [
      "Input the numbers: 6 8 2 10 4\n",
      "The largest number is: 10\n",
      "\n",
      "Alternatively, we can use the 'max' function in Python:\n",
      "max(numbers): 10\n"
     ]
    }
   ],
   "source": [
    "numbers = list(map(int, input(\"Input the numbers: \").split()))\n",
    "\n",
    "# way 1:\n",
    "numbers.sort()\n",
    "print(f\"The largest number is: {numbers[-1]}\")\n",
    "\n",
    "# way 2:\n",
    "print()\n",
    "print(\"Alternatively, we can use the 'max' function in Python:\")\n",
    "print(f\"max(numbers): {max(numbers)}\")"
   ]
  },
  {
   "cell_type": "markdown",
   "metadata": {},
   "source": [
    "###### Q3. Write a Python program to get the smallest number from a list."
   ]
  },
  {
   "cell_type": "code",
   "execution_count": 3,
   "metadata": {},
   "outputs": [
    {
     "name": "stdout",
     "output_type": "stream",
     "text": [
      "Input the numbers: 6 8 2 10 4\n",
      "The smallest number is: 2\n",
      "\n",
      "Alternatively, we can use the 'min' function in Python:\n",
      "min(numbers): 2\n"
     ]
    }
   ],
   "source": [
    "numbers = list(map(int, input(\"Input the numbers: \").split()))\n",
    "\n",
    "# way 1:\n",
    "numbers.sort()\n",
    "print(f\"The smallest number is: {numbers[0]}\")\n",
    "\n",
    "# way 2:\n",
    "print()\n",
    "print(\"Alternatively, we can use the 'min' function in Python:\")\n",
    "print(f\"min(numbers): {min(numbers)}\")"
   ]
  },
  {
   "cell_type": "markdown",
   "metadata": {},
   "source": [
    "###### Q4. Write a Python program to multiply all the items in a list."
   ]
  },
  {
   "cell_type": "code",
   "execution_count": 4,
   "metadata": {},
   "outputs": [
    {
     "name": "stdout",
     "output_type": "stream",
     "text": [
      "Input the numbers: 6 8 2 10 4\n",
      "The product of all items: 3840\n",
      "\n",
      "Alternatively, we can use the 'prod' function from the 'math' library:\n",
      "math.prod(numbers): 3840\n"
     ]
    }
   ],
   "source": [
    "numbers = list(map(int, input(\"Input the numbers: \").split()))\n",
    "\n",
    "# way 1:\n",
    "product = 1\n",
    "for i in numbers:\n",
    "    product *= i\n",
    "print(f\"The product of all items: {product}\")\n",
    "\n",
    "# way 2:\n",
    "import math\n",
    "print()\n",
    "print(\"Alternatively, we can use the 'prod' function from the 'math' library:\")\n",
    "print(f\"math.prod(numbers): {math.prod(numbers)}\")"
   ]
  }
 ],
 "metadata": {
  "kernelspec": {
   "display_name": "Python 3",
   "language": "python",
   "name": "python3"
  },
  "language_info": {
   "codemirror_mode": {
    "name": "ipython",
    "version": 3
   },
   "file_extension": ".py",
   "mimetype": "text/x-python",
   "name": "python",
   "nbconvert_exporter": "python",
   "pygments_lexer": "ipython3",
   "version": "3.8.4"
  }
 },
 "nbformat": 4,
 "nbformat_minor": 4
}
