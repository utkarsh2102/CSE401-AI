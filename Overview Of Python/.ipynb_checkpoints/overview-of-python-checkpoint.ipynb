{
 "cells": [
  {
   "cell_type": "markdown",
   "metadata": {},
   "source": [
    "### Overview of Python\n",
    "\n",
    "This contains the solution of `List` and `Tuple` questions as the lab assignment."
   ]
  },
  {
   "cell_type": "markdown",
   "metadata": {},
   "source": [
    "#### List"
   ]
  },
  {
   "cell_type": "markdown",
   "metadata": {},
   "source": [
    "###### Q1. Write a Python program to sum all the items in a list."
   ]
  },
  {
   "cell_type": "code",
   "execution_count": 1,
   "metadata": {},
   "outputs": [
    {
     "name": "stdout",
     "output_type": "stream",
     "text": [
      "Input the numbers: 6 8 2 10 4\n",
      "Total sum is: 30\n",
      "\n",
      "Alternatively, we use the 'sum' function in Python:\n",
      "sum(numbers): 30\n"
     ]
    }
   ],
   "source": [
    "numbers = list(map(int, input(\"Input the numbers: \").split()))\n",
    "\n",
    "# way 1:\n",
    "totalSum = 0\n",
    "for i in numbers:\n",
    "    totalSum += i\n",
    "\n",
    "print(f\"Total sum is: {totalSum}\")\n",
    "\n",
    "# way 2:\n",
    "print()\n",
    "print(\"Alternatively, we use the 'sum' function in Python:\")\n",
    "print(f\"sum(numbers): {sum(numbers)}\")"
   ]
  },
  {
   "cell_type": "markdown",
   "metadata": {},
   "source": [
    "###### Q2. Write a Python program to get the largest number from a list."
   ]
  },
  {
   "cell_type": "code",
   "execution_count": 2,
   "metadata": {},
   "outputs": [
    {
     "name": "stdout",
     "output_type": "stream",
     "text": [
      "Input the numbers: 6 8 2 10 4\n",
      "The largest number is: 10\n",
      "\n",
      "Alternatively, we can use the 'max' function in Python:\n",
      "max(numbers): 10\n"
     ]
    }
   ],
   "source": [
    "numbers = list(map(int, input(\"Input the numbers: \").split()))\n",
    "\n",
    "# way 1:\n",
    "numbers.sort()\n",
    "print(f\"The largest number is: {numbers[-1]}\")\n",
    "\n",
    "# way 2:\n",
    "print()\n",
    "print(\"Alternatively, we can use the 'max' function in Python:\")\n",
    "print(f\"max(numbers): {max(numbers)}\")"
   ]
  },
  {
   "cell_type": "markdown",
   "metadata": {},
   "source": [
    "###### Q3. Write a Python program to get the smallest number from a list."
   ]
  },
  {
   "cell_type": "code",
   "execution_count": 3,
   "metadata": {},
   "outputs": [
    {
     "name": "stdout",
     "output_type": "stream",
     "text": [
      "Input the numbers: 6 8 2 10 4\n",
      "The smallest number is: 2\n",
      "\n",
      "Alternatively, we can use the 'min' function in Python:\n",
      "min(numbers): 2\n"
     ]
    }
   ],
   "source": [
    "numbers = list(map(int, input(\"Input the numbers: \").split()))\n",
    "\n",
    "# way 1:\n",
    "numbers.sort()\n",
    "print(f\"The smallest number is: {numbers[0]}\")\n",
    "\n",
    "# way 2:\n",
    "print()\n",
    "print(\"Alternatively, we can use the 'min' function in Python:\")\n",
    "print(f\"min(numbers): {min(numbers)}\")"
   ]
  },
  {
   "cell_type": "markdown",
   "metadata": {},
   "source": [
    "###### Q4. Write a Python program to multiply all the items in a list."
   ]
  },
  {
   "cell_type": "code",
   "execution_count": 4,
   "metadata": {},
   "outputs": [
    {
     "name": "stdout",
     "output_type": "stream",
     "text": [
      "Input the numbers: 6 8 2 10 4\n",
      "The product of all items: 3840\n",
      "\n",
      "Alternatively, we can use the 'prod' function from the 'math' library:\n",
      "math.prod(numbers): 3840\n"
     ]
    }
   ],
   "source": [
    "numbers = list(map(int, input(\"Input the numbers: \").split()))\n",
    "\n",
    "# way 1:\n",
    "product = 1\n",
    "for i in numbers:\n",
    "    product *= i\n",
    "print(f\"The product of all items: {product}\")\n",
    "\n",
    "# way 2:\n",
    "import math\n",
    "print()\n",
    "print(\"Alternatively, we can use the 'prod' function from the 'math' library:\")\n",
    "print(f\"math.prod(numbers): {math.prod(numbers)}\")"
   ]
  },
  {
   "cell_type": "markdown",
   "metadata": {},
   "source": [
    "#### Tuple"
   ]
  },
  {
   "cell_type": "markdown",
   "metadata": {},
   "source": [
    "###### Q1. Write a Python program to create a tuple."
   ]
  },
  {
   "cell_type": "code",
   "execution_count": 5,
   "metadata": {},
   "outputs": [
    {
     "name": "stdout",
     "output_type": "stream",
     "text": [
      "<class 'tuple'>\n",
      "(21, 12)\n"
     ]
    }
   ],
   "source": [
    "someTuple = (21, 12)\n",
    "print(type(someTuple))\n",
    "print(someTuple)"
   ]
  },
  {
   "cell_type": "markdown",
   "metadata": {},
   "source": [
    "###### Q2. Write a Python program to create a tuple with different data types."
   ]
  },
  {
   "cell_type": "code",
   "execution_count": 6,
   "metadata": {},
   "outputs": [
    {
     "name": "stdout",
     "output_type": "stream",
     "text": [
      "(21, 'debian', 12)\n"
     ]
    }
   ],
   "source": [
    "someTuple = (21, 'debian', 12)\n",
    "print(someTuple)"
   ]
  },
  {
   "cell_type": "markdown",
   "metadata": {},
   "source": [
    "###### Q3. Write a Python program to create a tuple with numbers and print one item."
   ]
  },
  {
   "cell_type": "code",
   "execution_count": 7,
   "metadata": {},
   "outputs": [
    {
     "name": "stdout",
     "output_type": "stream",
     "text": [
      "Enter the items: 6 8 2 10 4\n",
      "Enter the item number you want to print: 3\n",
      "Item number 3 is '2'.\n"
     ]
    }
   ],
   "source": [
    "someTuple = tuple(map(int, input(\"Enter the items: \").split()))\n",
    "itemNumber = int(input(\"Enter the item number you want to print: \"))\n",
    "\n",
    "print(f\"Item number {itemNumber} is '{someTuple[itemNumber-1]}'.\")"
   ]
  },
  {
   "cell_type": "markdown",
   "metadata": {},
   "source": [
    "###### Q4. Write a Python program to add an item in a tuple."
   ]
  },
  {
   "cell_type": "code",
   "execution_count": 8,
   "metadata": {},
   "outputs": [
    {
     "name": "stdout",
     "output_type": "stream",
     "text": [
      "Enter the items: 21 12 2019\n",
      "Enter the item to add: debian\n",
      "The new tuple is: (21, 12, 2019, 'debian')\n",
      "\n",
      "Alternatively, we can convert the tuple into list and add items.\n",
      "The new tuple is: (21, 12, 2019, 'debian')\n"
     ]
    }
   ],
   "source": [
    "someTuple = tuple(map(int, input(\"Enter the items: \").split()))\n",
    "addItem = input(\"Enter the item to add: \")\n",
    "\n",
    "# way 1:\n",
    "newTuple = someTuple + (addItem,)\n",
    "print(f\"The new tuple is: {newTuple}\")\n",
    "\n",
    "# way 2:\n",
    "print()\n",
    "print(\"Alternatively, we can convert the tuple into list and add items.\")\n",
    "someList = list(someTuple)\n",
    "someList.append(addItem)\n",
    "newTuple = tuple(someList)\n",
    "print(f\"The new tuple is: {newTuple}\")"
   ]
  },
  {
   "cell_type": "markdown",
   "metadata": {},
   "source": [
    "###### Q5. Write a Python program to convert a tuple to a string."
   ]
  },
  {
   "cell_type": "code",
   "execution_count": 9,
   "metadata": {
    "scrolled": true
   },
   "outputs": [
    {
     "name": "stdout",
     "output_type": "stream",
     "text": [
      "Enter the characters: d e b i a n\n",
      "Converted string: 'debian'.\n"
     ]
    }
   ],
   "source": [
    "someTuple = tuple(map(str, input(\"Enter the characters: \").split()))\n",
    "convertedString = ''.join(someTuple)\n",
    "print(f\"Converted string: '{convertedString}'.\")"
   ]
  },
  {
   "cell_type": "markdown",
   "metadata": {},
   "source": [
    "#### Sets"
   ]
  },
  {
   "cell_type": "markdown",
   "metadata": {},
   "source": [
    "###### Q1. Write a Python program to create a set."
   ]
  },
  {
   "cell_type": "code",
   "execution_count": 2,
   "metadata": {},
   "outputs": [
    {
     "name": "stdout",
     "output_type": "stream",
     "text": [
      "<class 'set'>\n",
      "{12, 21}\n"
     ]
    }
   ],
   "source": [
    "someSet = {21, 12}\n",
    "print(type(someSet))\n",
    "print(someSet)"
   ]
  },
  {
   "cell_type": "markdown",
   "metadata": {},
   "source": [
    "###### Q2. Write a Python program to add member(s) in a set."
   ]
  },
  {
   "cell_type": "code",
   "execution_count": 5,
   "metadata": {},
   "outputs": [
    {
     "name": "stdout",
     "output_type": "stream",
     "text": [
      "Enter the member element: debian\n",
      "The updated set is {'debian', 12, 21}.\n"
     ]
    }
   ],
   "source": [
    "someSet = {21, 12}\n",
    "member = input(\"Enter the member element: \")\n",
    "\n",
    "someSet.add(member)\n",
    "print(f\"The updated set is {someSet}.\")"
   ]
  },
  {
   "cell_type": "markdown",
   "metadata": {},
   "source": [
    "###### Q3. Write a Python program to remove item(s) from set."
   ]
  },
  {
   "cell_type": "code",
   "execution_count": 10,
   "metadata": {},
   "outputs": [
    {
     "name": "stdout",
     "output_type": "stream",
     "text": [
      "The set is {'debian', 12, 21}.\n",
      "Enter the number you want to remove: 21\n",
      "\n",
      "The updated set is {'debian', 12}.\n"
     ]
    }
   ],
   "source": [
    "someSet = {'debian', 21, 12}\n",
    "print(f\"The set is {someSet}.\")\n",
    "itemNumber = int(input(\"Enter the number you want to remove: \"))\n",
    "\n",
    "someSet.remove(itemNumber)\n",
    "print()\n",
    "print(f\"The updated set is {someSet}.\")"
   ]
  },
  {
   "cell_type": "markdown",
   "metadata": {},
   "source": [
    "###### Q4. Write a Python program to remove an item from a set if it is present in the set."
   ]
  },
  {
   "cell_type": "code",
   "execution_count": 11,
   "metadata": {},
   "outputs": [
    {
     "name": "stdout",
     "output_type": "stream",
     "text": [
      "The set is {2019, 12, 21, 2020}.\n",
      "Enter the number you want to remove: 2020\n",
      "\n",
      "The updated set is {2019, 12, 21}.\n"
     ]
    }
   ],
   "source": [
    "someSet = {21, 12, 2019, 2020}\n",
    "print(f\"The set is {someSet}.\")\n",
    "itemNumber = int(input(\"Enter the number you want to remove: \"))\n",
    "\n",
    "if itemNumber in someSet:\n",
    "    someSet.remove(itemNumber)\n",
    "else:\n",
    "    print(f\"{itemNumber} is not present in the set!\")\n",
    "\n",
    "print()\n",
    "print(f\"The updated set is {someSet}.\")"
   ]
  },
  {
   "cell_type": "markdown",
   "metadata": {},
   "source": [
    "#### Dictionary"
   ]
  },
  {
   "cell_type": "markdown",
   "metadata": {},
   "source": [
    "###### Q1. Write a Python program to create a dictionary."
   ]
  },
  {
   "cell_type": "code",
   "execution_count": 13,
   "metadata": {},
   "outputs": [
    {
     "name": "stdout",
     "output_type": "stream",
     "text": [
      "<class 'dict'>\n",
      "{'Year': 2020, 'Month': 'July'}\n"
     ]
    }
   ],
   "source": [
    "someDict = {\"Year\": 2020, \"Month\": \"July\"}\n",
    "print(type(someDict))\n",
    "print(someDict)"
   ]
  },
  {
   "cell_type": "markdown",
   "metadata": {},
   "source": [
    "###### Q2. Write a Python script to add a key to a dictionary."
   ]
  },
  {
   "cell_type": "code",
   "execution_count": 15,
   "metadata": {},
   "outputs": [
    {
     "name": "stdout",
     "output_type": "stream",
     "text": [
      "The dictionary right now is: {'Year': 2020, 'Month': 'July'}.\n",
      "Enter {key} and {value} separated by a space to add in the dictionary: Date 18\n",
      "\n",
      "The updated dictionary is: {'Year': 2020, 'Month': 'July', 'Date': '18'}.\n"
     ]
    }
   ],
   "source": [
    "someDict = {\"Year\": 2020, \"Month\": \"July\"}\n",
    "print(f\"The dictionary right now is: {someDict}.\")\n",
    "inputDict = input(\"Enter {key} and {value} separated by a space to add in the dictionary: \")\n",
    "\n",
    "someDict.update(dict(x.split() for x in inputDict.splitlines()))\n",
    "\n",
    "print()\n",
    "print(f\"The updated dictionary is: {someDict}.\")"
   ]
  },
  {
   "cell_type": "code",
   "execution_count": null,
   "metadata": {},
   "outputs": [],
   "source": []
  }
 ],
 "metadata": {
  "kernelspec": {
   "display_name": "Python 3",
   "language": "python",
   "name": "python3"
  },
  "language_info": {
   "codemirror_mode": {
    "name": "ipython",
    "version": 3
   },
   "file_extension": ".py",
   "mimetype": "text/x-python",
   "name": "python",
   "nbconvert_exporter": "python",
   "pygments_lexer": "ipython3",
   "version": "3.8.4"
  }
 },
 "nbformat": 4,
 "nbformat_minor": 4
}
