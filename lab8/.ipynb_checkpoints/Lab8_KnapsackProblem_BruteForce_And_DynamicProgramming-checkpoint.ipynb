{
 "cells": [
  {
   "cell_type": "markdown",
   "metadata": {},
   "source": [
    "<h1>Lab8: Implement a Knapsack problem using Brute Force Method and Dynamic Programming</h1>"
   ]
  },
  {
   "cell_type": "markdown",
   "metadata": {},
   "source": [
    "The knapsack problem is an optimization problem that takes a common computational need—finding the best use of limited  resources given a finite set of usage options—and spins it into a fun story. A thief enters a shop with the intent to steal.\n",
    "He has a knapsack, and he is limited in what he can steal by the capacity of the knapsack. How does he figure out what to put into the knapsack?"
   ]
  },
  {
   "cell_type": "markdown",
   "metadata": {},
   "source": [
    "If we tried to solve this problem using a brute-force approach, we would look at every combination of items available to be put in the knapsack. For the mathematically inclined, this is known as a powerset, and a powerset of a set (in our case, the set of items) has $2^{N}$ different possible subsets, where $N$ is the number of items. Therefore, we would need to analyze $2^{N}$ combinations $(O(2^{N}))$. This is okay for a small number of items, but it is untenable for a large number. Any approach that solves a problem\n",
    "using an exponential number of steps is an approach we want to avoid. "
   ]
  },
  {
   "cell_type": "code",
   "execution_count": 1,
   "metadata": {},
   "outputs": [],
   "source": [
    "from itertools import product\n",
    "from collections import namedtuple\n",
    "try:\n",
    "    from itertools import izip\n",
    "except ImportError:\n",
    "    izip = zip"
   ]
  },
  {
   "cell_type": "code",
   "execution_count": 2,
   "metadata": {},
   "outputs": [],
   "source": [
    "Reward = namedtuple('Reward', 'name value weight volume')\n",
    "\n",
    "bagpack =   Reward('bagpack',  0, 25.0, 0.25)\n",
    "\n",
    "items = [Reward('laptop',    3000,  0.3, 0.025),\n",
    "         Reward('printer',   1800,  0.2, 0.015),\n",
    "         Reward('headphone', 2500,  2.0, 0.002)]"
   ]
  },
  {
   "cell_type": "code",
   "execution_count": 3,
   "metadata": {},
   "outputs": [],
   "source": [
    "def tot_value(items_count):\n",
    "    \"\"\"\n",
    "    Given the count of each item in the sack return -1 if they can't be carried or their total value.\n",
    " \n",
    "    (also return the negative of the weight and the volume so taking the max of a series of return\n",
    "    values will minimise the weight if values tie, and minimise the volume if values and weights tie).\n",
    "    \"\"\"\n",
    "    global items, bagpack\n",
    "    weight = sum(n * item.weight for n, item in izip(items_count, items))\n",
    "    volume = sum(n * item.volume for n, item in izip(items_count, items))\n",
    "    if weight <= bagpack.weight and volume <= bagpack.volume:\n",
    "        return sum(n * item.value for n, item in izip(items_count, items)), -weight, -volume    \n",
    "    else:\n",
    "        return -1, 0, 0"
   ]
  },
  {
   "cell_type": "code",
   "execution_count": 4,
   "metadata": {},
   "outputs": [],
   "source": [
    "def knapsack():\n",
    "    global items, bagpack \n",
    "    # find max of any one item\n",
    "    max1 = [min(int(bagpack.weight // item.weight), int(bagpack.volume // item.volume)) for item in items]\n",
    " \n",
    "    # Try all combinations of reward items from 0 up to max1\n",
    "    return max(product(*[range(n + 1) for n in max1]), key=tot_value)"
   ]
  },
  {
   "cell_type": "code",
   "execution_count": 5,
   "metadata": {},
   "outputs": [
    {
     "name": "stdout",
     "output_type": "stream",
     "text": [
      "The maximum value achievable (by exhaustive search) is 54500.\n",
      "  The number of laptop, printer, headphone items to achieve this is: (9, 0, 11), respectively.\n",
      "  The weight to carry is 24.7, and the volume used is 0.247.\n",
      "\n",
      "The total execution time taken is 0.0247344970703125.\n"
     ]
    }
   ],
   "source": [
    "import time\n",
    "\n",
    "start = time.time()\n",
    "\n",
    "max_items = knapsack()\n",
    "maxvalue, max_weight, max_volume = tot_value(max_items)\n",
    "max_weight = -max_weight\n",
    "max_volume = -max_volume\n",
    " \n",
    "print(\"The maximum value achievable (by exhaustive search) is %g.\" % maxvalue)\n",
    "item_names = \", \".join(item.name for item in items)\n",
    "print(\"  The number of %s items to achieve this is: %s, respectively.\" % (item_names, max_items))\n",
    "print(\"  The weight to carry is %.3g, and the volume used is %.3g.\" % (max_weight, max_volume))\n",
    "\n",
    "end = time.time()\n",
    "print(f\"\\nThe total execution time taken is {end-start}.\")"
   ]
  },
  {
   "cell_type": "markdown",
   "metadata": {},
   "source": [
    "<h3>Implement a Knapsack problem using Dynamic Programming. Compare the execution time of brute-force and dynamic programming algorithms</h3>"
   ]
  },
  {
   "cell_type": "markdown",
   "metadata": {},
   "source": [
    "Instead, use a technique known as dynamic programming, which is similar in concept to memoization. Instead of solving a problem outright with a brute-force approach, in dynamic programming one solves subproblems that make up the larger problem, stores those results, and utilizes those stored results to solve the larger problem. As long as the capacity of the knapsack is considered in discrete steps, the problem can be solved with dynamic programming."
   ]
  },
  {
   "cell_type": "code",
   "execution_count": 6,
   "metadata": {},
   "outputs": [],
   "source": [
    "from itertools import product\n",
    "from collections import namedtuple\n",
    "try:\n",
    "    from itertools import izip\n",
    "except ImportError:\n",
    "    izip = zip"
   ]
  },
  {
   "cell_type": "code",
   "execution_count": 7,
   "metadata": {},
   "outputs": [],
   "source": [
    "Reward = namedtuple('Reward', 'name value weight volume')\n",
    "\n",
    "bagpack =   Reward('bagpack',  0, 250, 250)\n",
    "\n",
    "items = [Reward('laptop',    3000,  3, 25),\n",
    "         Reward('printer',   1800,  2, 15),\n",
    "         Reward('headphone', 2500,  20, 2)]"
   ]
  },
  {
   "cell_type": "code",
   "execution_count": 8,
   "metadata": {},
   "outputs": [],
   "source": [
    "def tot_value(items_count, items, bagpack):\n",
    "    \"\"\"\n",
    "    Given the count of each item in the bagpack return -1 if they can't be carried or their total value.\n",
    "\n",
    "    (also return the negative of the weight and the volume so taking the max of a series of return\n",
    "    values will minimise the weight if values tie, and minimise the volume if values and weights tie).\n",
    "    \"\"\"\n",
    "    weight = sum(n * item.weight for n, item in izip(items_count, items))\n",
    "    volume = sum(n * item.volume for n, item in izip(items_count, items))\n",
    "    if weight <= bagpack.weight and volume <= bagpack.volume:\n",
    "        return sum(n * item.value for n, item in izip(items_count, items)), -weight, -volume\n",
    "    else:\n",
    "        return -1, 0, 0"
   ]
  },
  {
   "cell_type": "code",
   "execution_count": 9,
   "metadata": {},
   "outputs": [],
   "source": [
    "def knapsack(items, bagpack):\n",
    "    table = [[0] * (bagpack.volume + 1) for i in range(bagpack.weight + 1)]\n",
    "\n",
    "    for w in range(bagpack.weight + 1):\n",
    "        for v in range(bagpack.volume + 1):\n",
    "            for item in items:\n",
    "                if w >= item.weight and v >= item.volume:\n",
    "                    table[w][v] = max(table[w][v],\n",
    "                                      table[w - item.weight][v - item.volume] + item.value)\n",
    "\n",
    "    result = [0] * len(items)\n",
    "    w = bagpack.weight\n",
    "    v = bagpack.volume\n",
    "    while table[w][v]:\n",
    "        aux = [table[w-item.weight][v-item.volume] + item.value for item in items]\n",
    "        i = aux.index(table[w][v])\n",
    "\n",
    "        result[i] += 1\n",
    "        w -= items[i].weight\n",
    "        v -= items[i].volume\n",
    "\n",
    "    return result"
   ]
  },
  {
   "cell_type": "code",
   "execution_count": 10,
   "metadata": {},
   "outputs": [
    {
     "name": "stdout",
     "output_type": "stream",
     "text": [
      "The maximum value achievable (by exhaustive search) is 54500.\n",
      "  The number of laptop, printer, headphone items to achieve this is: [9, 0, 11], respectively.\n",
      "  The weight to carry is 247, and the volume used is 247.\n",
      "\n",
      "The total time taken is 0.20116853713989258.\n"
     ]
    }
   ],
   "source": [
    "import time\n",
    "\n",
    "start = time.time()\n",
    "\n",
    "max_items = knapsack(items, bagpack)\n",
    "maxvalue, max_weight, max_volume = tot_value(max_items, items, bagpack)\n",
    "max_weight = -max_weight\n",
    "max_volume = -max_volume\n",
    "\n",
    "print(\"The maximum value achievable (by exhaustive search) is %g.\" % maxvalue)\n",
    "item_names = \", \".join(item.name for item in items)\n",
    "print(\"  The number of %s items to achieve this is: %s, respectively.\" % (item_names, max_items))\n",
    "print(\"  The weight to carry is %.3g, and the volume used is %.3g.\" % (max_weight, max_volume))\n",
    "\n",
    "end = time.time()\n",
    "print(f\"\\nThe total time taken is {end-start}.\")"
   ]
  }
 ],
 "metadata": {
  "kernelspec": {
   "display_name": "Python 3",
   "language": "python",
   "name": "python3"
  },
  "language_info": {
   "codemirror_mode": {
    "name": "ipython",
    "version": 3
   },
   "file_extension": ".py",
   "mimetype": "text/x-python",
   "name": "python",
   "nbconvert_exporter": "python",
   "pygments_lexer": "ipython3",
   "version": "3.8.6rc1"
  }
 },
 "nbformat": 4,
 "nbformat_minor": 2
}
