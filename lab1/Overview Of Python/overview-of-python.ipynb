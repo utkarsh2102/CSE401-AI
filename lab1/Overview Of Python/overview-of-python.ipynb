{
 "cells": [
  {
   "cell_type": "markdown",
   "metadata": {},
   "source": [
    "### Overview of Python\n",
    "\n",
    "This contains the solution of `List`, `Tuple`, `Set`, `Dictionary`, `Functions`, `Classes`, and `File Processing` questions as given in the lab assignment."
   ]
  },
  {
   "cell_type": "markdown",
   "metadata": {},
   "source": [
    "#### List"
   ]
  },
  {
   "cell_type": "markdown",
   "metadata": {},
   "source": [
    "###### Q1. Write a Python program to sum all the items in a list."
   ]
  },
  {
   "cell_type": "code",
   "execution_count": 1,
   "metadata": {},
   "outputs": [
    {
     "name": "stdout",
     "output_type": "stream",
     "text": [
      "Input the numbers: 6 8 2 10 4\n",
      "Total sum is: 30\n",
      "\n",
      "Alternatively, we use the 'sum' function in Python:\n",
      "sum(numbers): 30\n"
     ]
    }
   ],
   "source": [
    "numbers = list(map(int, input(\"Input the numbers: \").split()))\n",
    "\n",
    "# way 1:\n",
    "totalSum = 0\n",
    "for i in numbers:\n",
    "    totalSum += i\n",
    "\n",
    "print(f\"Total sum is: {totalSum}\")\n",
    "\n",
    "# way 2:\n",
    "print()\n",
    "print(\"Alternatively, we use the 'sum' function in Python:\")\n",
    "print(f\"sum(numbers): {sum(numbers)}\")"
   ]
  },
  {
   "cell_type": "markdown",
   "metadata": {},
   "source": [
    "###### Q2. Write a Python program to get the largest number from a list."
   ]
  },
  {
   "cell_type": "code",
   "execution_count": 2,
   "metadata": {},
   "outputs": [
    {
     "name": "stdout",
     "output_type": "stream",
     "text": [
      "Input the numbers: 6 8 2 10 4\n",
      "The largest number is: 10\n",
      "\n",
      "Alternatively, we can use the 'max' function in Python:\n",
      "max(numbers): 10\n"
     ]
    }
   ],
   "source": [
    "numbers = list(map(int, input(\"Input the numbers: \").split()))\n",
    "\n",
    "# way 1:\n",
    "numbers.sort()\n",
    "print(f\"The largest number is: {numbers[-1]}\")\n",
    "\n",
    "# way 2:\n",
    "print()\n",
    "print(\"Alternatively, we can use the 'max' function in Python:\")\n",
    "print(f\"max(numbers): {max(numbers)}\")"
   ]
  },
  {
   "cell_type": "markdown",
   "metadata": {},
   "source": [
    "###### Q3. Write a Python program to get the smallest number from a list."
   ]
  },
  {
   "cell_type": "code",
   "execution_count": 3,
   "metadata": {},
   "outputs": [
    {
     "name": "stdout",
     "output_type": "stream",
     "text": [
      "Input the numbers: 6 8 2 10 4\n",
      "The smallest number is: 2\n",
      "\n",
      "Alternatively, we can use the 'min' function in Python:\n",
      "min(numbers): 2\n"
     ]
    }
   ],
   "source": [
    "numbers = list(map(int, input(\"Input the numbers: \").split()))\n",
    "\n",
    "# way 1:\n",
    "numbers.sort()\n",
    "print(f\"The smallest number is: {numbers[0]}\")\n",
    "\n",
    "# way 2:\n",
    "print()\n",
    "print(\"Alternatively, we can use the 'min' function in Python:\")\n",
    "print(f\"min(numbers): {min(numbers)}\")"
   ]
  },
  {
   "cell_type": "markdown",
   "metadata": {},
   "source": [
    "###### Q4. Write a Python program to multiply all the items in a list."
   ]
  },
  {
   "cell_type": "code",
   "execution_count": 4,
   "metadata": {},
   "outputs": [
    {
     "name": "stdout",
     "output_type": "stream",
     "text": [
      "Input the numbers: 6 8 2 10 4\n",
      "The product of all items: 3840\n",
      "\n",
      "Alternatively, we can use the 'prod' function from the 'math' library:\n",
      "math.prod(numbers): 3840\n"
     ]
    }
   ],
   "source": [
    "numbers = list(map(int, input(\"Input the numbers: \").split()))\n",
    "\n",
    "# way 1:\n",
    "product = 1\n",
    "for i in numbers:\n",
    "    product *= i\n",
    "print(f\"The product of all items: {product}\")\n",
    "\n",
    "# way 2:\n",
    "import math\n",
    "print()\n",
    "print(\"Alternatively, we can use the 'prod' function from the 'math' library:\")\n",
    "print(f\"math.prod(numbers): {math.prod(numbers)}\")"
   ]
  },
  {
   "cell_type": "markdown",
   "metadata": {},
   "source": [
    "#### Tuple"
   ]
  },
  {
   "cell_type": "markdown",
   "metadata": {},
   "source": [
    "###### Q1. Write a Python program to create a tuple."
   ]
  },
  {
   "cell_type": "code",
   "execution_count": 5,
   "metadata": {},
   "outputs": [
    {
     "name": "stdout",
     "output_type": "stream",
     "text": [
      "<class 'tuple'>\n",
      "(21, 12)\n"
     ]
    }
   ],
   "source": [
    "someTuple = (21, 12)\n",
    "print(type(someTuple))\n",
    "print(someTuple)"
   ]
  },
  {
   "cell_type": "markdown",
   "metadata": {},
   "source": [
    "###### Q2. Write a Python program to create a tuple with different data types."
   ]
  },
  {
   "cell_type": "code",
   "execution_count": 6,
   "metadata": {},
   "outputs": [
    {
     "name": "stdout",
     "output_type": "stream",
     "text": [
      "(21, 'debian', 12)\n"
     ]
    }
   ],
   "source": [
    "someTuple = (21, 'debian', 12)\n",
    "print(someTuple)"
   ]
  },
  {
   "cell_type": "markdown",
   "metadata": {},
   "source": [
    "###### Q3. Write a Python program to create a tuple with numbers and print one item."
   ]
  },
  {
   "cell_type": "code",
   "execution_count": 7,
   "metadata": {},
   "outputs": [
    {
     "name": "stdout",
     "output_type": "stream",
     "text": [
      "Enter the items: 6 8 2 10 4\n",
      "Enter the item number you want to print: 3\n",
      "Item number 3 is '2'.\n"
     ]
    }
   ],
   "source": [
    "someTuple = tuple(map(int, input(\"Enter the items: \").split()))\n",
    "itemNumber = int(input(\"Enter the item number you want to print: \"))\n",
    "\n",
    "print(f\"Item number {itemNumber} is '{someTuple[itemNumber-1]}'.\")"
   ]
  },
  {
   "cell_type": "markdown",
   "metadata": {},
   "source": [
    "###### Q4. Write a Python program to add an item in a tuple."
   ]
  },
  {
   "cell_type": "code",
   "execution_count": 8,
   "metadata": {},
   "outputs": [
    {
     "name": "stdout",
     "output_type": "stream",
     "text": [
      "Enter the items: 21 12 2019\n",
      "Enter the item to add: debian\n",
      "The new tuple is: (21, 12, 2019, 'debian')\n",
      "\n",
      "Alternatively, we can convert the tuple into list and add items.\n",
      "The new tuple is: (21, 12, 2019, 'debian')\n"
     ]
    }
   ],
   "source": [
    "someTuple = tuple(map(int, input(\"Enter the items: \").split()))\n",
    "addItem = input(\"Enter the item to add: \")\n",
    "\n",
    "# way 1:\n",
    "newTuple = someTuple + (addItem,)\n",
    "print(f\"The new tuple is: {newTuple}\")\n",
    "\n",
    "# way 2:\n",
    "print()\n",
    "print(\"Alternatively, we can convert the tuple into list and add items.\")\n",
    "someList = list(someTuple)\n",
    "someList.append(addItem)\n",
    "newTuple = tuple(someList)\n",
    "print(f\"The new tuple is: {newTuple}\")"
   ]
  },
  {
   "cell_type": "markdown",
   "metadata": {},
   "source": [
    "###### Q5. Write a Python program to convert a tuple to a string."
   ]
  },
  {
   "cell_type": "code",
   "execution_count": 9,
   "metadata": {
    "scrolled": true
   },
   "outputs": [
    {
     "name": "stdout",
     "output_type": "stream",
     "text": [
      "Enter the characters: d e b i a n\n",
      "Converted string: 'debian'.\n"
     ]
    }
   ],
   "source": [
    "someTuple = tuple(map(str, input(\"Enter the characters: \").split()))\n",
    "convertedString = ''.join(someTuple)\n",
    "print(f\"Converted string: '{convertedString}'.\")"
   ]
  },
  {
   "cell_type": "markdown",
   "metadata": {},
   "source": [
    "#### Sets"
   ]
  },
  {
   "cell_type": "markdown",
   "metadata": {},
   "source": [
    "###### Q1. Write a Python program to create a set."
   ]
  },
  {
   "cell_type": "code",
   "execution_count": 2,
   "metadata": {},
   "outputs": [
    {
     "name": "stdout",
     "output_type": "stream",
     "text": [
      "<class 'set'>\n",
      "{12, 21}\n"
     ]
    }
   ],
   "source": [
    "someSet = {21, 12}\n",
    "print(type(someSet))\n",
    "print(someSet)"
   ]
  },
  {
   "cell_type": "markdown",
   "metadata": {},
   "source": [
    "###### Q2. Write a Python program to add member(s) in a set."
   ]
  },
  {
   "cell_type": "code",
   "execution_count": 5,
   "metadata": {},
   "outputs": [
    {
     "name": "stdout",
     "output_type": "stream",
     "text": [
      "Enter the member element: debian\n",
      "The updated set is {'debian', 12, 21}.\n"
     ]
    }
   ],
   "source": [
    "someSet = {21, 12}\n",
    "member = input(\"Enter the member element: \")\n",
    "\n",
    "someSet.add(member)\n",
    "print(f\"The updated set is {someSet}.\")"
   ]
  },
  {
   "cell_type": "markdown",
   "metadata": {},
   "source": [
    "###### Q3. Write a Python program to remove item(s) from set."
   ]
  },
  {
   "cell_type": "code",
   "execution_count": 10,
   "metadata": {},
   "outputs": [
    {
     "name": "stdout",
     "output_type": "stream",
     "text": [
      "The set is {'debian', 12, 21}.\n",
      "Enter the number you want to remove: 21\n",
      "\n",
      "The updated set is {'debian', 12}.\n"
     ]
    }
   ],
   "source": [
    "someSet = {'debian', 21, 12}\n",
    "print(f\"The set is {someSet}.\")\n",
    "itemNumber = int(input(\"Enter the number you want to remove: \"))\n",
    "\n",
    "someSet.remove(itemNumber)\n",
    "print()\n",
    "print(f\"The updated set is {someSet}.\")"
   ]
  },
  {
   "cell_type": "markdown",
   "metadata": {},
   "source": [
    "###### Q4. Write a Python program to remove an item from a set if it is present in the set."
   ]
  },
  {
   "cell_type": "code",
   "execution_count": 11,
   "metadata": {},
   "outputs": [
    {
     "name": "stdout",
     "output_type": "stream",
     "text": [
      "The set is {2019, 12, 21, 2020}.\n",
      "Enter the number you want to remove: 2020\n",
      "\n",
      "The updated set is {2019, 12, 21}.\n"
     ]
    }
   ],
   "source": [
    "someSet = {21, 12, 2019, 2020}\n",
    "print(f\"The set is {someSet}.\")\n",
    "itemNumber = int(input(\"Enter the number you want to remove: \"))\n",
    "\n",
    "if itemNumber in someSet:\n",
    "    someSet.remove(itemNumber)\n",
    "else:\n",
    "    print(f\"{itemNumber} is not present in the set!\")\n",
    "\n",
    "print()\n",
    "print(f\"The updated set is {someSet}.\")"
   ]
  },
  {
   "cell_type": "markdown",
   "metadata": {},
   "source": [
    "#### Dictionary"
   ]
  },
  {
   "cell_type": "markdown",
   "metadata": {},
   "source": [
    "###### Q1. Write a Python program to create a dictionary."
   ]
  },
  {
   "cell_type": "code",
   "execution_count": 13,
   "metadata": {},
   "outputs": [
    {
     "name": "stdout",
     "output_type": "stream",
     "text": [
      "<class 'dict'>\n",
      "{'Year': 2020, 'Month': 'July'}\n"
     ]
    }
   ],
   "source": [
    "someDict = {\"Year\": 2020, \"Month\": \"July\"}\n",
    "print(type(someDict))\n",
    "print(someDict)"
   ]
  },
  {
   "cell_type": "markdown",
   "metadata": {},
   "source": [
    "###### Q2. Write a Python script to add a key to a dictionary."
   ]
  },
  {
   "cell_type": "code",
   "execution_count": 15,
   "metadata": {},
   "outputs": [
    {
     "name": "stdout",
     "output_type": "stream",
     "text": [
      "The dictionary right now is: {'Year': 2020, 'Month': 'July'}.\n",
      "Enter {key} and {value} separated by a space to add in the dictionary: Date 18\n",
      "\n",
      "The updated dictionary is: {'Year': 2020, 'Month': 'July', 'Date': '18'}.\n"
     ]
    }
   ],
   "source": [
    "someDict = {\"Year\": 2020, \"Month\": \"July\"}\n",
    "print(f\"The dictionary right now is: {someDict}.\")\n",
    "inputDict = input(\"Enter {key} and {value} separated by a space to add in the dictionary: \")\n",
    "\n",
    "someDict.update(dict(x.split() for x in inputDict.splitlines()))\n",
    "\n",
    "print()\n",
    "print(f\"The updated dictionary is: {someDict}.\")"
   ]
  },
  {
   "cell_type": "markdown",
   "metadata": {},
   "source": [
    "###### Q3. Write a Python script to concatenate following dictionaries to create a new one."
   ]
  },
  {
   "cell_type": "code",
   "execution_count": 2,
   "metadata": {},
   "outputs": [
    {
     "name": "stdout",
     "output_type": "stream",
     "text": [
      "The dictionary right now is: {'Name': 'Utkarsh Gupta'}.\n",
      "Enter key and value separated by a space: Enrollment A2305217557\n",
      "\n",
      "The concatenated dictionary is: {'Name': 'Utkarsh Gupta', 'Enrollment': 'A2305217557'}.\n"
     ]
    }
   ],
   "source": [
    "someDict = {'Name': 'Utkarsh Gupta'}\n",
    "print(f\"The dictionary right now is: {someDict}.\")\n",
    "key, value = input(\"Enter key and value separated by a space: \").split() \n",
    "\n",
    "newDict = dict()\n",
    "newDict[key] = value\n",
    "someDict.update(newDict)\n",
    "\n",
    "print()\n",
    "print(f\"The concatenated dictionary is: {someDict}.\")"
   ]
  },
  {
   "cell_type": "markdown",
   "metadata": {},
   "source": [
    "###### Q4. Write a Python script to check whether a given key already exists in a dictionary."
   ]
  },
  {
   "cell_type": "code",
   "execution_count": 3,
   "metadata": {},
   "outputs": [
    {
     "name": "stdout",
     "output_type": "stream",
     "text": [
      "Enter the key to check: Name\n",
      "The key 'Name' is present.\n"
     ]
    }
   ],
   "source": [
    "someDict = {\"Name\": \"Utkarsh Gupta\", \"Enrollment\": \"A2305217557\"}\n",
    "key = input(\"Enter the key to check: \")\n",
    "\n",
    "if key in someDict.keys():\n",
    "    print(f\"The key '{key}' is present.\")\n",
    "else:\n",
    "    print(f\"The key '{key}' is NOT present.\")"
   ]
  },
  {
   "cell_type": "markdown",
   "metadata": {},
   "source": [
    "#### Functions"
   ]
  },
  {
   "cell_type": "markdown",
   "metadata": {},
   "source": [
    "###### Q1. Write a Python function that takes a list and returns a new list with unique elements of the first list."
   ]
  },
  {
   "cell_type": "code",
   "execution_count": 10,
   "metadata": {},
   "outputs": [
    {
     "name": "stdout",
     "output_type": "stream",
     "text": [
      "Input the list: 1,2,3,4,5,4,3,2,1,2,3,4,5\n",
      "\n",
      "The original list is: [1, 2, 3, 4, 5, 4, 3, 2, 1, 2, 3, 4, 5].\n",
      "The list of unique elements is: [1, 2, 3, 4, 5].\n"
     ]
    }
   ],
   "source": [
    "def uniqueList(someList):\n",
    "    newList = []\n",
    "    for i in someList:\n",
    "        if i in newList:\n",
    "            continue\n",
    "        else:\n",
    "            newList.append(i)\n",
    "\n",
    "    print(f\"The original list is: {someList}.\")\n",
    "    print(f\"The list of unique elements is: {newList}.\")\n",
    "\n",
    "someList = list(map(int, input(\"Input the list: \").split(\",\")))\n",
    "print()\n",
    "uniqueList(someList)"
   ]
  },
  {
   "cell_type": "markdown",
   "metadata": {},
   "source": [
    "#### Mini Projects"
   ]
  },
  {
   "cell_type": "markdown",
   "metadata": {},
   "source": [
    "###### Project 1: Make a simple mathematical calculator which can perform addition, subtraction, multiplication and division."
   ]
  },
  {
   "cell_type": "code",
   "execution_count": 12,
   "metadata": {},
   "outputs": [
    {
     "name": "stdout",
     "output_type": "stream",
     "text": [
      "Select operation:\n",
      "1. Add\n",
      "2. Subtract\n",
      "3. Multiply\n",
      "4. Divide\n",
      "\n",
      "Enter choice (1/2/3/4): 3\n",
      "Enter first number: 2\n",
      "Enter second number: 3.5\n",
      "\n",
      "2.0 * 3.5 = 7.0\n"
     ]
    }
   ],
   "source": [
    "def add(x, y):\n",
    "    return x + y\n",
    "\n",
    "def subtract(x, y):\n",
    "    return x - y\n",
    "\n",
    "def multiply(x, y):\n",
    "    return x * y\n",
    "\n",
    "def divide(x, y):\n",
    "    return x / y\n",
    "\n",
    "print(\"Select operation:\")\n",
    "print(\"1. Add\")\n",
    "print(\"2. Subtract\")\n",
    "print(\"3. Multiply\")\n",
    "print(\"4. Divide\")\n",
    "print()\n",
    "\n",
    "while True:\n",
    "    choice = input(\"Enter choice (1/2/3/4): \")\n",
    "\n",
    "    if choice in ('1', '2', '3', '4'):\n",
    "        number1 = float(input(\"Enter first number: \"))\n",
    "        number2 = float(input(\"Enter second number: \"))\n",
    "        print()\n",
    "\n",
    "        if choice == '1':\n",
    "            print(f\"{number1} + {number2} = {add(number1, number2)}\")\n",
    "\n",
    "        elif choice == '2':\n",
    "            print(f\"{number1} - {number2} = {subtract(number1, number2)}\")\n",
    "\n",
    "        elif choice == '3':\n",
    "            print(f\"{number1} * {number2} = {multiply(number1, number2)}\")\n",
    "\n",
    "        elif choice == '4':\n",
    "            print(f\"{number1} / {number2} = {divide(number1, number2)}\")\n",
    "\n",
    "        break\n",
    "    else:\n",
    "        print(\"Invalid input.\")"
   ]
  },
  {
   "cell_type": "markdown",
   "metadata": {},
   "source": [
    "###### Project 2: Make a rock-paper-scissors game where it is the player vs the computer. The computer’s answer will be randomly generated, while the program will ask the user for their input. This project will better your understanding of while loops and if statements."
   ]
  },
  {
   "cell_type": "code",
   "execution_count": 20,
   "metadata": {},
   "outputs": [
    {
     "name": "stdout",
     "output_type": "stream",
     "text": [
      "GAME RULES:\n",
      "Rock  vs  Paper    :  Paper wins!\n",
      "Paper vs  Scissor  :  Scissor wins!\n",
      "Rock  vs  Scissor  :  Rock wins!\n",
      "-------------------------------------\n",
      "\n",
      "Select:\n",
      " 1. Rock\n",
      " 2. Paper\n",
      " 3. Scissor\n",
      " 4. Stop\n",
      "\n",
      "Please enter your choice: 3\n",
      "Your choice: Scissor\n",
      "System's choice: Rock\n",
      "\n",
      "Rock wins!\n",
      "-------------------------------------\n",
      "\n",
      "Select:\n",
      " 1. Rock\n",
      " 2. Paper\n",
      " 3. Scissor\n",
      " 4. Stop\n",
      "\n",
      "Please enter your choice: 2\n",
      "Your choice: Paper\n",
      "System's choice: Paper\n",
      "\n",
      "It's a tie!\n",
      "-------------------------------------\n",
      "\n",
      "Select:\n",
      " 1. Rock\n",
      " 2. Paper\n",
      " 3. Scissor\n",
      " 4. Stop\n",
      "\n",
      "Please enter your choice: 4\n",
      "\n",
      "Game exited, thank you for playing!\n"
     ]
    }
   ],
   "source": [
    "import random\n",
    "\n",
    "print(\"GAME RULES:\")\n",
    "print(\"Rock  vs  Paper    :  Paper wins!\")\n",
    "print(\"Paper vs  Scissor  :  Scissor wins!\")\n",
    "print(\"Rock  vs  Scissor  :  Rock wins!\")\n",
    "print(\"-------------------------------------\")\n",
    "\n",
    "while(True):\n",
    "    print(\"\\nSelect:\\n 1. Rock\\n 2. Paper\\n 3. Scissor\\n 4. Stop\\n\")\n",
    "    choice = int(input(\"Please enter your choice: \"))\n",
    "\n",
    "    options = {1: \"Rock\", 2: \"Paper\", 3: \"Scissor\", 4: \"Stop\"}\n",
    "\n",
    "    if (choice == 4):\n",
    "        print(\"\\nGame exited, thank you for playing!\")\n",
    "        break\n",
    "\n",
    "    if(choice not in options):\n",
    "        print()\n",
    "        print(\"Incorrect choice, exiting...\")\n",
    "\n",
    "    print(f\"Your choice: {options[choice]}\")\n",
    "\n",
    "    system = random.randint(1,3)\n",
    "    print(f\"System's choice: {options[system]}\")\n",
    "\n",
    "    if (choice == system):\n",
    "        print(\"\\nIt's a tie!\")\n",
    "        \n",
    "    elif((choice == 1 and system == 2) or (choice == 2 and system ==1 )): \n",
    "        print(\"\\nPaper wins!\") \n",
    "          \n",
    "    elif((choice == 1 and system == 3) or (choice == 3 and system == 1)): \n",
    "        print(\"\\nRock wins!\")\n",
    "\n",
    "    else: \n",
    "        print(\"\\nScissor wins!\")\n",
    "\n",
    "    print(\"-------------------------------------\")"
   ]
  },
  {
   "cell_type": "markdown",
   "metadata": {},
   "source": [
    "#### Classes"
   ]
  },
  {
   "cell_type": "markdown",
   "metadata": {},
   "source": [
    "###### Q1. Write a Python class to find two elements from a list that have sum equal to zero."
   ]
  },
  {
   "cell_type": "code",
   "execution_count": 21,
   "metadata": {},
   "outputs": [
    {
     "name": "stdout",
     "output_type": "stream",
     "text": [
      "Input the list: -1,2,3,4,1,-3,5\n",
      "\n",
      "The possible sets are: \n",
      "(-1, 1)\n",
      "(3, -3)\n",
      "(1, -1)\n",
      "(-3, 3)\n"
     ]
    }
   ],
   "source": [
    "class SumZero:\n",
    "    def main(self, someList):\n",
    "        for i in someList:\n",
    "            for j in someList:\n",
    "                if (i + j == 0):\n",
    "                    print(f\"({i}, {j})\")\n",
    "                else:\n",
    "                    continue\n",
    "\n",
    "someList = list(map(int, input(\"Input the list: \").split(\",\")))\n",
    "print()\n",
    "print(\"The possible sets are: \")\n",
    "SumZero().main(someList)"
   ]
  },
  {
   "cell_type": "markdown",
   "metadata": {},
   "source": [
    "#### File Processing"
   ]
  },
  {
   "cell_type": "markdown",
   "metadata": {},
   "source": [
    "###### Q1. Write a Python program to count the frequency of words in the file."
   ]
  },
  {
   "cell_type": "code",
   "execution_count": 25,
   "metadata": {},
   "outputs": [
    {
     "name": "stdout",
     "output_type": "stream",
     "text": [
      "The frequency of words are:\n",
      "\n",
      "this: 1\n",
      "is: 3\n",
      "test: 1\n",
      "file: 1\n",
      "with: 1\n",
      "some: 1\n",
      "dummy: 2\n",
      "content: 2\n",
      "the: 1\n",
      "best: 1\n",
      "for: 1\n",
      "testing: 2\n",
      "important: 1\n"
     ]
    }
   ],
   "source": [
    "# Creating a file with some dummy content.\n",
    "f = open(\"ai.txt\", \"w+\")\n",
    "f.write(\"This is test file with some dummy content\\n\")\n",
    "f.write(\"Dummy content is the best for testing\\n\")\n",
    "f.write(\"Testing is important\\n\")\n",
    "f.close()\n",
    "\n",
    "# Performing the frequency search.\n",
    "dummyText = open(\"ai.txt\", \"r\")\n",
    "someDict = dict()\n",
    "\n",
    "for line in dummyText:\n",
    "    line = line.strip()\n",
    "    line = line.lower()\n",
    "    words = line.split(\" \")\n",
    "\n",
    "    for word in words:\n",
    "        if word in someDict:\n",
    "            someDict[word] = someDict[word] + 1\n",
    "        else:\n",
    "            someDict[word] = 1\n",
    "\n",
    "\n",
    "print(\"The frequency of words are:\\n\")\n",
    "for key in list(someDict.keys()):\n",
    "    print(f\"{key}: {someDict[key]}\")"
   ]
  }
 ],
 "metadata": {
  "kernelspec": {
   "display_name": "Python 3",
   "language": "python",
   "name": "python3"
  },
  "language_info": {
   "codemirror_mode": {
    "name": "ipython",
    "version": 3
   },
   "file_extension": ".py",
   "mimetype": "text/x-python",
   "name": "python",
   "nbconvert_exporter": "python",
   "pygments_lexer": "ipython3",
   "version": "3.8.5"
  }
 },
 "nbformat": 4,
 "nbformat_minor": 4
}
